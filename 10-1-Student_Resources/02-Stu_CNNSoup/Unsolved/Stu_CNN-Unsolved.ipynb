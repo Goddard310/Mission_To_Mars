{
 "cells": [
  {
   "cell_type": "code",
   "execution_count": 1,
   "source": [
    "# Dependencies\n",
    "import os\n",
    "from bs4 import BeautifulSoup as bs"
   ],
   "outputs": [],
   "metadata": {
    "collapsed": true
   }
  },
  {
   "cell_type": "code",
   "execution_count": 2,
   "source": [
    "# Read HTML from file\n",
    "filepath = os.path.join(\"..\", \"Resources\", \"template.html\")\n",
    "with open(filepath) as file:\n",
    "    html = file.read()"
   ],
   "outputs": [],
   "metadata": {
    "collapsed": true
   }
  },
  {
   "cell_type": "code",
   "execution_count": 3,
   "source": [
    "# Create a Beautiful Soup object\n",
    "cnn_soup = bs(html, 'html.parser')\n"
   ],
   "outputs": [],
   "metadata": {
    "collapsed": true
   }
  },
  {
   "cell_type": "code",
   "execution_count": 5,
   "source": [
    "# Extract title text\n",
    "cnn_soup.title"
   ],
   "outputs": [
    {
     "output_type": "execute_result",
     "data": {
      "text/plain": [
       "<title>Top Ten Stories From 1996</title>"
      ]
     },
     "metadata": {},
     "execution_count": 5
    }
   ],
   "metadata": {}
  },
  {
   "cell_type": "markdown",
   "source": [],
   "metadata": {}
  },
  {
   "cell_type": "code",
   "execution_count": 9,
   "source": [
    "# Print all paragraph texts\n",
    "cnn_soup.body.find_all('p')"
   ],
   "outputs": [
    {
     "output_type": "execute_result",
     "data": {
      "text/plain": [
       "[<p><br/>\n",
       " <table border=\"0\" cellpadding=\"0\" cellspacing=\"0\">\n",
       " <tr>\n",
       " <td><img align=\"TOP\" height=\"60\" src=\"logos.gif\" width=\"112\"/></td>\n",
       " <td><img align=\"TOP\" height=\"60\" src=\"banner.gif\" width=\"360\"/></td>\n",
       " </tr>\n",
       " </table>\n",
       " </p>,\n",
       " <p align=\"RIGHT\"><b><tt>What were the biggest stories of the year?</tt></b><br/>\n",
       " <br/>\n",
       " <font size=\"2\">It's a question journalists like to ask themselves at the end of every\n",
       "             year. Now you can join in the process. Here are our selections for the top ten news\n",
       "             stories of 1996.<br/>\n",
       " <br/>\n",
       "             Disagree with our choices? Then tell us what stories you think were most compelling\n",
       "             in the poll below.</font>\n",
       " </p>,\n",
       " <p align=\"CENTER\"><img align=\"MIDDLE\" height=\"24\" src=\"generic/topten.gif\" vspace=\"5\" width=\"263\"/>\n",
       " </p>,\n",
       " <p><b><tt>What makes a </tt></b><font size=\"5\"><tt><b>big</b></tt></font><tt><b>\n",
       "             story </b></tt><font size=\"5\"><tt><b>BIG?</b></tt></font>\n",
       " <blockquote>\n",
       " <p>It depends on your criteria, of course, and your perspective. That's why we offered\n",
       "             a poll to find out what you think.</p>\n",
       " <p>For our list, we polled producers throughout the CNN/Pathfinder family of networks\n",
       "             and publications, and weighed such criteria as a story's long-term implications,\n",
       "             geopolitical significance, user interest, amount of coverage, and old-fashioned newsworthiness.\n",
       "             All these things help make a \"big\" story big.</p>\n",
       " <p>By no means do we think our lists are the final word. Even our polls among CNN\n",
       "             producers turned up a wide variety of responses. The process is meant to encourage\n",
       "             you to reconsider the stories that dominated the media during the past year and determine\n",
       "             for yourself which were mere sensations and which were truly significant.\n",
       "             </p></blockquote>\n",
       " </p>,\n",
       " <p>It depends on your criteria, of course, and your perspective. That's why we offered\n",
       "             a poll to find out what you think.</p>,\n",
       " <p>For our list, we polled producers throughout the CNN/Pathfinder family of networks\n",
       "             and publications, and weighed such criteria as a story's long-term implications,\n",
       "             geopolitical significance, user interest, amount of coverage, and old-fashioned newsworthiness.\n",
       "             All these things help make a \"big\" story big.</p>,\n",
       " <p>By no means do we think our lists are the final word. Even our polls among CNN\n",
       "             producers turned up a wide variety of responses. The process is meant to encourage\n",
       "             you to reconsider the stories that dominated the media during the past year and determine\n",
       "             for yourself which were mere sensations and which were truly significant.\n",
       "             </p>,\n",
       " <p>© 1996 Cable News Network, Inc.<br/>\n",
       " All Rights Reserved.</p>]"
      ]
     },
     "metadata": {},
     "execution_count": 9
    }
   ],
   "metadata": {}
  },
  {
   "cell_type": "code",
   "execution_count": 16,
   "source": [
    "# Print all ten headlines\n",
    "cnn_soup.find_all('td')"
   ],
   "outputs": [
    {
     "output_type": "execute_result",
     "data": {
      "text/plain": [
       "[<td><img align=\"TOP\" height=\"60\" src=\"logos.gif\" width=\"112\"/></td>,\n",
       " <td><img align=\"TOP\" height=\"60\" src=\"banner.gif\" width=\"360\"/></td>,\n",
       " <td rowspan=\"11\" valign=\"TOP\" width=\"90\">\n",
       " <p align=\"RIGHT\"><b><tt>What were the biggest stories of the year?</tt></b><br/>\n",
       " <br/>\n",
       " <font size=\"2\">It's a question journalists like to ask themselves at the end of every\n",
       "             year. Now you can join in the process. Here are our selections for the top ten news\n",
       "             stories of 1996.<br/>\n",
       " <br/>\n",
       "             Disagree with our choices? Then tell us what stories you think were most compelling\n",
       "             in the poll below.</font>\n",
       " </p></td>,\n",
       " <td rowspan=\"11\" width=\"4\"></td>,\n",
       " <td rowspan=\"11\" valign=\"MIDDLE\"><img align=\"MIDDLE\" height=\"250\" src=\"generic/dot.gif\" width=\"1\"/></td>,\n",
       " <td rowspan=\"11\" width=\"10\"></td>,\n",
       " <td colspan=\"4\" valign=\"TOP\">\n",
       " <p align=\"CENTER\"><img align=\"MIDDLE\" height=\"24\" src=\"generic/topten.gif\" vspace=\"5\" width=\"263\"/>\n",
       " </p></td>,\n",
       " <td><a href=\"topten/israel/israel.index.html\" target=\"_top\"><img align=\"MIDDLE\" border=\"0\" height=\"17\" src=\"generic/1.gif\" width=\"17\"/></a></td>,\n",
       " <td><a href=\"topten/israel/israel.index.html\" target=\"_top\"><b>Israel</b> elects <b>Netanyahu</b></a></td>,\n",
       " <td><a href=\"topten/twa/twa.index.html\" target=\"_top\"><img align=\"MIDDLE\" border=\"0\" height=\"17\" src=\"generic/2.gif\" width=\"17\"/></a></td>,\n",
       " <td><a href=\"topten/twa/twa.index.html\" target=\"_top\">Crash of TWA Flight 800</a></td>,\n",
       " <td><a href=\"topten/yeltsin/yeltsin.index.html\" target=\"_top\"><img align=\"MIDDLE\" border=\"0\" height=\"17\" src=\"generic/3.gif\" width=\"17\"/></a></td>,\n",
       " <td><a href=\"topten/yeltsin/yeltsin.index.html\" target=\"_top\"><b>Russia</b> elects <b>Yeltsin</b></a></td>,\n",
       " <td><a href=\"topten/clinton/clinton.index.html\" target=\"_top\"><img align=\"MIDDLE\" border=\"0\" height=\"17\" src=\"generic/4.gif\" width=\"17\"/></a></td>,\n",
       " <td><a href=\"topten/clinton/clinton.index.html\" target=\"_top\"><b>U.S</b>. elects <b>Clinton</b></a></td>,\n",
       " <td><a href=\"topten/hutu/hutu.index.html\" target=\"_top\"><img align=\"MIDDLE\" border=\"0\" height=\"17\" src=\"generic/5.gif\" width=\"17\"/></a></td>,\n",
       " <td><a href=\"topten/hutu/hutu.index.html\" target=\"_top\"><b>Hutu-Tutsi</b> conflict in central Africa</a></td>,\n",
       " <td><a href=\"topten/bosnia/bosnia.index.html\" target=\"_top\"><img align=\"MIDDLE\" border=\"0\" height=\"17\" src=\"generic/6.gif\" width=\"17\"/></a></td>,\n",
       " <td><a href=\"topten/bosnia/bosnia.index.html\" target=\"_top\">Peace, elections in <b>Bosnia</b></a></td>,\n",
       " <td><a href=\"topten/saudi/saudi.index.html\" target=\"_top\"><img align=\"MIDDLE\" border=\"0\" height=\"17\" src=\"generic/7.gif\" width=\"17\"/></a></td>,\n",
       " <td><a href=\"topten/saudi/saudi.index.html\" target=\"_top\"><b>U.S</b>. base bombed in <b>Saudi Arabia</b></a></td>,\n",
       " <td><a href=\"topten/olympics/olympics.index.html\" target=\"_top\"><img align=\"MIDDLE\" border=\"0\" height=\"17\" src=\"generic/8.gif\" width=\"17\"/></a></td>,\n",
       " <td><a href=\"topten/olympics/olympics.index.html\" target=\"_top\">Centennial <b>Olympic</b> Games</a></td>,\n",
       " <td><a href=\"topten/aids/aids.index.html\" target=\"_top\"><img align=\"MIDDLE\" border=\"0\" height=\"17\" src=\"generic/9.gif\" width=\"17\"/></a></td>,\n",
       " <td><a href=\"topten/aids/aids.index.html\" target=\"_top\">Advances against <b>AIDS</b></a></td>,\n",
       " <td><a href=\"topten/unabomb/unabomb.index.html\" target=\"_top\"><img align=\"MIDDLE\" border=\"0\" height=\"17\" src=\"generic/10.gif\" width=\"17\"/></a></td>,\n",
       " <td><a href=\"topten/unabomb/unabomb.index.html\" target=\"_top\"><b>Unabomb</b> suspect <b>Ted Kaczynski</b> arrested</a></td>,\n",
       " <td>\n",
       " <center><a href=\"topten/poll.html\" target=\"_top\"><img align=\"MIDDLE\" border=\"0\" height=\"60\" src=\"poll.gif\" width=\"120\"/></a></center>\n",
       " </td>,\n",
       " <td>\n",
       " <center><a href=\"http://www-cgi.cnn.com/cgi-bin/quiz/yir_main/go.pl/main\" target=\"_top\"><img align=\"MIDDLE\" border=\"0\" height=\"60\" src=\"quiz.gif\" width=\"120\"/></a></center>\n",
       " </td>,\n",
       " <td colspan=\"2\"><center><a href=\"http://www-cgi.cnn.com/cgi-bin/poll/heavypoll.pl?slug=9612%2Fyir_top_10\" target=\"_top\">The top 10 stories according to our users</a></center></td>,\n",
       " <td width=\"100%\">\n",
       " <p><b><tt>What makes a </tt></b><font size=\"5\"><tt><b>big</b></tt></font><tt><b>\n",
       "             story </b></tt><font size=\"5\"><tt><b>BIG?</b></tt></font>\n",
       " <blockquote>\n",
       " <p>It depends on your criteria, of course, and your perspective. That's why we offered\n",
       "             a poll to find out what you think.</p>\n",
       " <p>For our list, we polled producers throughout the CNN/Pathfinder family of networks\n",
       "             and publications, and weighed such criteria as a story's long-term implications,\n",
       "             geopolitical significance, user interest, amount of coverage, and old-fashioned newsworthiness.\n",
       "             All these things help make a \"big\" story big.</p>\n",
       " <p>By no means do we think our lists are the final word. Even our polls among CNN\n",
       "             producers turned up a wide variety of responses. The process is meant to encourage\n",
       "             you to reconsider the stories that dominated the media during the past year and determine\n",
       "             for yourself which were mere sensations and which were truly significant.\n",
       "             </p></blockquote>\n",
       " </p></td>,\n",
       " <td align=\"CENTER\"><img alt=\"What you think\" border=\"0\" height=\"59\" src=\"what_you_think.gif\" width=\"60\"/></td>,\n",
       " <td><strong><a href=\"/feedback/index.html\" name=\"_top\">Tell us what you think</a></strong><br/><br/>\n",
       " <strong><a href=\"/feedback/comments.html\" name=\"_top\">You said it...</a></strong></td>]"
      ]
     },
     "metadata": {},
     "execution_count": 16
    }
   ],
   "metadata": {
    "collapsed": true
   }
  },
  {
   "cell_type": "code",
   "execution_count": 20,
   "source": [
    "# Print only the headlines\n",
    "cnn_soup.find_all('td').find.prettify()\n"
   ],
   "outputs": [
    {
     "output_type": "error",
     "ename": "AttributeError",
     "evalue": "ResultSet object has no attribute 'find'. You're probably treating a list of elements like a single element. Did you call find_all() when you meant to call find()?",
     "traceback": [
      "\u001b[0;31m---------------------------------------------------------------------------\u001b[0m",
      "\u001b[0;31mAttributeError\u001b[0m                            Traceback (most recent call last)",
      "\u001b[0;32m<ipython-input-20-05ec1787da96>\u001b[0m in \u001b[0;36m<module>\u001b[0;34m\u001b[0m\n\u001b[1;32m      1\u001b[0m \u001b[0;31m# Print only the headlines\u001b[0m\u001b[0;34m\u001b[0m\u001b[0;34m\u001b[0m\u001b[0;34m\u001b[0m\u001b[0m\n\u001b[0;32m----> 2\u001b[0;31m \u001b[0mcnn_soup\u001b[0m\u001b[0;34m.\u001b[0m\u001b[0mfind_all\u001b[0m\u001b[0;34m(\u001b[0m\u001b[0;34m'td'\u001b[0m\u001b[0;34m)\u001b[0m\u001b[0;34m.\u001b[0m\u001b[0mfind\u001b[0m\u001b[0;34m.\u001b[0m\u001b[0mprettify\u001b[0m\u001b[0;34m(\u001b[0m\u001b[0;34m)\u001b[0m\u001b[0;34m\u001b[0m\u001b[0;34m\u001b[0m\u001b[0m\n\u001b[0m",
      "\u001b[0;32m~/opt/anaconda3/lib/python3.8/site-packages/bs4/element.py\u001b[0m in \u001b[0;36m__getattr__\u001b[0;34m(self, key)\u001b[0m\n\u001b[1;32m   2171\u001b[0m     \u001b[0;32mdef\u001b[0m \u001b[0m__getattr__\u001b[0m\u001b[0;34m(\u001b[0m\u001b[0mself\u001b[0m\u001b[0;34m,\u001b[0m \u001b[0mkey\u001b[0m\u001b[0;34m)\u001b[0m\u001b[0;34m:\u001b[0m\u001b[0;34m\u001b[0m\u001b[0;34m\u001b[0m\u001b[0m\n\u001b[1;32m   2172\u001b[0m         \u001b[0;34m\"\"\"Raise a helpful exception to explain a common code fix.\"\"\"\u001b[0m\u001b[0;34m\u001b[0m\u001b[0;34m\u001b[0m\u001b[0m\n\u001b[0;32m-> 2173\u001b[0;31m         raise AttributeError(\n\u001b[0m\u001b[1;32m   2174\u001b[0m             \u001b[0;34m\"ResultSet object has no attribute '%s'. You're probably treating a list of elements like a single element. Did you call find_all() when you meant to call find()?\"\u001b[0m \u001b[0;34m%\u001b[0m \u001b[0mkey\u001b[0m\u001b[0;34m\u001b[0m\u001b[0;34m\u001b[0m\u001b[0m\n\u001b[1;32m   2175\u001b[0m         )\n",
      "\u001b[0;31mAttributeError\u001b[0m: ResultSet object has no attribute 'find'. You're probably treating a list of elements like a single element. Did you call find_all() when you meant to call find()?"
     ]
    }
   ],
   "metadata": {}
  },
  {
   "cell_type": "code",
   "execution_count": null,
   "source": [],
   "outputs": [],
   "metadata": {}
  }
 ],
 "metadata": {
  "kernelspec": {
   "name": "python3",
   "display_name": "Python 3.8.8 64-bit ('base': conda)"
  },
  "language_info": {
   "codemirror_mode": {
    "name": "ipython",
    "version": 3
   },
   "file_extension": ".py",
   "mimetype": "text/x-python",
   "name": "python",
   "nbconvert_exporter": "python",
   "pygments_lexer": "ipython3",
   "version": "3.8.8"
  },
  "varInspector": {
   "cols": {
    "lenName": 16,
    "lenType": 16,
    "lenVar": 40
   },
   "kernels_config": {
    "python": {
     "delete_cmd_postfix": "",
     "delete_cmd_prefix": "del ",
     "library": "var_list.py",
     "varRefreshCmd": "print(var_dic_list())"
    },
    "r": {
     "delete_cmd_postfix": ") ",
     "delete_cmd_prefix": "rm(",
     "library": "var_list.r",
     "varRefreshCmd": "cat(var_dic_list()) "
    }
   },
   "types_to_exclude": [
    "module",
    "function",
    "builtin_function_or_method",
    "instance",
    "_Feature"
   ],
   "window_display": false
  },
  "interpreter": {
   "hash": "79b54beed2800456f6e2ea5c450669b05b9b9e38b5e9132ec024d7c62af5a66a"
  }
 },
 "nbformat": 4,
 "nbformat_minor": 2
}